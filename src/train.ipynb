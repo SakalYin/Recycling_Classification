{
 "cells": [
  {
   "cell_type": "code",
   "execution_count": 1,
   "id": "b4808c07",
   "metadata": {},
   "outputs": [],
   "source": [
    "from models.detector_model.model import ObjectDetectionModel, MobileObjectDetectionModel\n",
    "from models.detector_model.processor import TrainingProcessor\n",
    "from models.detector_model.data_utils import TrainingDataset, COCOProcessor\n",
    "from models.detector_model.loss_grid import ObjectDetectionLoss\n",
    "from torch.utils.data import DataLoader\n",
    "import torch\n",
    "import torch.optim as optim\n",
    "\n",
    "grouped_classes = {\n",
    "        \"Metal\": [\n",
    "            \"Metal bottle cap\", \"Metal lid\", \"Drink can\", \"Pop tab\", \"Scrap metal\",\n",
    "            \"Food Can\", \"Aluminium blister pack\", \"Aluminium foil\", \"Aerosol\"\n",
    "        ],\n",
    "        \"Plastic\": [\n",
    "            \"Plastic bottle cap\", \"Other plastic wrapper\", \"Six pack rings\",\n",
    "            \"Single-use carrier bag\", \"Plastic straw\", \"Plastic glooves\",\n",
    "            \"Plastic utensils\", \"Disposable plastic cup\", \"Other plastic bottle\",\n",
    "            \"Tupperware\", \"Spread tub\", \"Garbage bag\", \"Other plastic container\",\n",
    "            \"Other plastic\", \"Rope & strings\", \"Other plastic cup\", \"Plastic film\",\n",
    "            \"Polypropylene bag\", \"Plastic lid\", \"Clear plastic bottle\", \"Squeezable tube\",\n",
    "            \"Carded blister pack\", \"Crisp packet\", \"Meal carton\"\n",
    "        ],\n",
    "        \"Paper\": [\n",
    "            \"Paper cup\", \"Paper bag\", \"Normal paper\", \"Paper straw\", \"Tissues\",\n",
    "            \"Toilet tube\", \"Wrapping paper\", \"Pizza box\", \"Magazine paper\",\n",
    "            \"Corrugated carton\", \"Egg carton\", \"Other carton\", \"Drink carton\"\n",
    "        ],\n",
    "        \"Glass\": [\n",
    "            \"Glass jar\", \"Glass bottle\", \"Glass cup\", \"Broken glass\"\n",
    "        ],\n",
    "        \"Waste\": [\n",
    "            \"Cigarette\", \"Food waste\", \"Foam cup\",\n",
    "            \"Disposable food container\", \"Foam food container\",\n",
    "            \"Shoe\", \"Unlabeled litter\", \"Styrofoam piece\"\n",
    "        ],\n",
    "        \"Battery\": [\n",
    "            \"Battery\"\n",
    "        ],\n",
    "    }"
   ]
  },
  {
   "cell_type": "code",
   "execution_count": 2,
   "id": "a0db955e",
   "metadata": {},
   "outputs": [
    {
     "name": "stdout",
     "output_type": "stream",
     "text": [
      "==================================================\n",
      "MODEL PARAMETER SUMMARY\n",
      "==================================================\n",
      "Total parameters:      172,705\n",
      "Trainable parameters:  172,705\n",
      "Non-trainable params:  0\n",
      "==================================================\n"
     ]
    }
   ],
   "source": [
    "model = MobileObjectDetectionModel(num_classes=len(grouped_classes), num_anchors=3, grid_size=3, width_mult=1.0)\n",
    "# model.load_state_dict(torch.load(r'D:\\Sakal\\AI_FARM\\Recycling_Classification\\grid_checkpoint_epoch_47.pth')['model_state_dict'])\n",
    "model.count_parameters()\n",
    "coco_processor = COCOProcessor(classes=grouped_classes)"
   ]
  },
  {
   "cell_type": "code",
   "execution_count": 3,
   "id": "1d701f2f",
   "metadata": {},
   "outputs": [],
   "source": [
    "extracted_trash = coco_processor.extract_annotations(\n",
    "    '..\\Dataset/Trash/train/_annotations.coco.json',\n",
    "    '..\\Dataset/Trash/train',\n",
    "    convert=False\n",
    ")\n",
    "\n",
    "extracted_taco = coco_processor.extract_annotations(\n",
    "    r'..\\Dataset\\TACO/data/annotations.json',\n",
    "    r'..\\Dataset\\TACO/data',\n",
    "    convert=True\n",
    ")\n",
    "\n",
    "classes_names_trash = []\n",
    "for label in extracted_trash:\n",
    "    classes_names_trash.extend(label['Class'])\n",
    "classes_names_trash = list(set(classes_names_trash))\n",
    "\n",
    "classes_names_taco = []\n",
    "for label in extracted_taco:\n",
    "    classes_names_taco.extend(label['Class'])\n",
    "classes_names_taco = list(set(classes_names_taco))"
   ]
  },
  {
   "cell_type": "code",
   "execution_count": 4,
   "id": "2b27d084",
   "metadata": {},
   "outputs": [
    {
     "data": {
      "text/plain": [
       "7500"
      ]
     },
     "execution_count": 4,
     "metadata": {},
     "output_type": "execute_result"
    }
   ],
   "source": [
    "dataset = extracted_taco + extracted_trash\n",
    "len(dataset)"
   ]
  },
  {
   "cell_type": "code",
   "execution_count": 5,
   "id": "ef08bee1",
   "metadata": {},
   "outputs": [],
   "source": [
    "from PIL import Image\n",
    "classes = [item for item, value in grouped_classes.items()] # ['Metal', 'Plastic', 'Paper', 'Glass', 'Waste', 'Battery']\n",
    "\n",
    "processor = TrainingProcessor(\n",
    "    input_size=448,\n",
    "    grid_size=model.grid_size,\n",
    "    num_anchors=model.num_anchors,\n",
    "    classes=classes,\n",
    ")\n",
    "\n",
    "trash_dataset = TrainingDataset(data_json=dataset, processor=processor, is_training=False)\n",
    "trash_dataloader = DataLoader(trash_dataset, batch_size=25, shuffle=True)\n"
   ]
  },
  {
   "cell_type": "code",
   "execution_count": 6,
   "id": "31ceb64e",
   "metadata": {},
   "outputs": [],
   "source": [
    "device = torch.device(\"cuda\" if torch.cuda.is_available() else \"cpu\")\n",
    "criterion = ObjectDetectionLoss(processor=processor, bbox_loss_weight=1.5, cls_loss_weight=1.0, obj_loss_weight=1.5, pos_obj_weight=1.0, neg_obj_weight=0.5)\n",
    "optimizer = optim.Adam(\n",
    "    model.parameters(),\n",
    "    lr=1e-4,           # learning rate\n",
    "    betas=(0.9, 0.999),# beta1 and beta2 for momentum estimates\n",
    "    eps=1e-8,          # small constant for numerical stability\n",
    "    weight_decay=0     # L2 regularization\n",
    ")\n",
    "\n",
    "num_epochs = 50\n",
    "batch_interval = 100"
   ]
  },
  {
   "cell_type": "code",
   "execution_count": 7,
   "id": "487635a6",
   "metadata": {},
   "outputs": [],
   "source": [
    "# image_tensor, target_tensor, anchor_pose = processor.process_training_sample(\n",
    "#     extracted_trash[531], apply_augmentation=False, get_anchors=True)\n",
    "\n",
    "# model.to(device)\n",
    "# with torch.no_grad():\n",
    "#     output = model(image_tensor.unsqueeze(0).to(device))\n",
    "\n",
    "# bboxes = processor.convert_output_to_bboxes(output[0], grid=True, class_tensor=True, conf_threshold=None)\n",
    "\n",
    "# neg_processed_bboxes = []\n",
    "# for item in bboxes:\n",
    "#     bbox = {\n",
    "#         'bbox': item['bbox'],\n",
    "#         'conf': torch.sigmoid(item['conf']),\n",
    "#         'class_tensor': torch.sigmoid(item['class_tensor']),\n",
    "#         'grid': item['grid'],\n",
    "#         'class_id': torch.argmax(torch.sigmoid(item['class_tensor']))\n",
    "#     }\n",
    "#     if torch.sigmoid(item['conf']) > 0.65:\n",
    "#         neg_processed_bboxes.append(bbox)\n",
    "\n",
    "# neg_processed_bboxes\n",
    "# processor.draw_bbox_on_image(image_tensor, neg_processed_bboxes)"
   ]
  },
  {
   "cell_type": "code",
   "execution_count": 8,
   "id": "33cb5a56",
   "metadata": {},
   "outputs": [],
   "source": [
    "# monitor = train_with_monitoring(\n",
    "#     model=model,\n",
    "#     dataloader=trash_dataloader,\n",
    "#     loss_fn=criterion,\n",
    "#     optimizer=optimizer,\n",
    "#     num_epochs=50,\n",
    "#     save_model_path='best_model.pth',\n",
    "#     monitor_frequency=200, \n",
    "#     device='cuda'\n",
    "# )"
   ]
  },
  {
   "cell_type": "code",
   "execution_count": null,
   "id": "cc997375",
   "metadata": {},
   "outputs": [
    {
     "name": "stdout",
     "output_type": "stream",
     "text": [
      "\tBatch: [100/300], Interval Loss: 3.6848, Epoch Loss: 3.6848, Lifetime Loss: 3.6848\n",
      "\t\tciou Loss: 2.8885207176208496, Objectness Loss: 0.29165443778038025, Positive Objectness Loss: 0.5375908613204956, Class Loss: 0.5045873522758484,\n"
     ]
    }
   ],
   "source": [
    "model.to(device)\n",
    "training_lifetime_loss = 0.0\n",
    "training_lifetime_batch = 0\n",
    "\n",
    "for epoch in range(num_epochs):\n",
    "    epoch_obj_loss = []\n",
    "    epoch_cls_loss = []\n",
    "    epoch_ciou_loss = []\n",
    "    epoch_pos_obj_loss = []\n",
    "\n",
    "\n",
    "    model.train() \n",
    "    epoch_loss = 0.0\n",
    "    batch_interval_loss = 0.0\n",
    "    num_batches = 0\n",
    "    \n",
    "    for i, (x, y) in enumerate(trash_dataloader):\n",
    "        x, y = x.to(device), y.to(device)\n",
    "        \n",
    "        optimizer.zero_grad()\n",
    "        y_pred = model(x)\n",
    "        loss = criterion(y_pred, y)\n",
    "        loss_item = loss['total']\n",
    "        \n",
    "        epoch_obj_loss.append(loss['objectness'])\n",
    "        epoch_cls_loss.append(loss['classification'])\n",
    "        epoch_ciou_loss.append(loss['ciou'])\n",
    "        try:\n",
    "            epoch_pos_obj_loss.append(loss['positive_objectness'])\n",
    "        except:\n",
    "            pass\n",
    "\n",
    "        # Check for invalid loss values\n",
    "        if torch.isnan(loss_item) or torch.isinf(loss_item):\n",
    "            print(f\"Warning: Invalid loss detected at epoch {epoch+1}, batch {i}\")\n",
    "            print(f\"Loss value: {loss_item.item()}\")\n",
    "            continue  \n",
    "        \n",
    "        loss_item.backward()\n",
    "        torch.nn.utils.clip_grad_norm_(model.parameters(), max_norm=10.0)\n",
    "        optimizer.step()\n",
    "        \n",
    "        # Accumulate losses\n",
    "        loss_item = loss_item.item()\n",
    "        epoch_loss += loss_item\n",
    "        batch_interval_loss += loss_item\n",
    "        training_lifetime_loss += loss_item\n",
    "        num_batches += 1\n",
    "        training_lifetime_batch += 1\n",
    "        \n",
    "        # Print batch interval statistics\n",
    "        if i % (batch_interval) == 0 and i != 0:\n",
    "            avg_interval_loss = batch_interval_loss / (batch_interval+1)  # Fixed division\n",
    "            avg_epoch_loss_so_far = epoch_loss / num_batches\n",
    "            avg_lifetime_loss = training_lifetime_loss / training_lifetime_batch\n",
    "            \n",
    "            print(f'\\tBatch: [{i}/{len(trash_dataloader)}], '\n",
    "                  f'Interval Loss: {avg_interval_loss:.4f}, '\n",
    "                  f'Epoch Loss: {avg_epoch_loss_so_far:.4f}, '\n",
    "                  f'Lifetime Loss: {avg_lifetime_loss:.4f}')\n",
    "            print(f'\\t\\tciou Loss: {sum(epoch_ciou_loss) / len(epoch_ciou_loss)}, Objectness Loss: {sum(epoch_obj_loss) / len(epoch_obj_loss)}, Positive Objectness Loss: {sum(epoch_pos_obj_loss) / len(epoch_pos_obj_loss)}, Class Loss: {sum(epoch_cls_loss) / len(epoch_cls_loss)},')\n",
    "            \n",
    "            batch_interval_loss = 0.0\n",
    "    \n",
    "    # Epoch summary\n",
    "    if num_batches > 0:\n",
    "        avg_epoch_loss = epoch_loss / num_batches\n",
    "        avg_lifetime_loss = training_lifetime_loss / training_lifetime_batch\n",
    "        \n",
    "        print(f'Epoch: [{epoch+1}/{num_epochs}], '\n",
    "              f'Avg Epoch Loss: {avg_epoch_loss:.4f}, '\n",
    "              f'Avg Lifetime Loss: {avg_lifetime_loss:.4f}')\n",
    "        \n",
    "        if (epoch + 1) % 25 == 0: \n",
    "            checkpoint = {\n",
    "                'epoch': epoch + 1,\n",
    "                'model_state_dict': model.state_dict(),\n",
    "                'optimizer_state_dict': optimizer.state_dict(),\n",
    "                'loss': avg_epoch_loss,\n",
    "                'lifetime_loss': avg_lifetime_loss\n",
    "            }\n",
    "            torch.save(checkpoint, f'checkpoint_epoch_{epoch+1}.pth')\n",
    "            print(f\"Checkpoint saved at epoch {epoch+1}\")\n",
    "\n",
    "print(\"Training completed!\")\n",
    "print(f\"Final average lifetime loss: {training_lifetime_loss / training_lifetime_batch:.4f}\")"
   ]
  },
  {
   "cell_type": "code",
   "execution_count": null,
   "id": "b87da60c",
   "metadata": {},
   "outputs": [
    {
     "name": "stdout",
     "output_type": "stream",
     "text": [
      "Checkpoint saved at epoch 22\n"
     ]
    }
   ],
   "source": [
    "# checkpoint = {\n",
    "#                 'epoch': epoch + 1,\n",
    "#                 'model_state_dict': model.state_dict(),\n",
    "#                 'optimizer_state_dict': optimizer.state_dict(),\n",
    "#                 'loss': avg_epoch_loss,\n",
    "#                 'lifetime_loss': avg_lifetime_loss\n",
    "#             }\n",
    "# torch.save(checkpoint, f'grid_checkpoint_epoch_70.pth')\n",
    "# print(f\"Checkpoint saved at epoch {epoch+1}\")"
   ]
  },
  {
   "cell_type": "code",
   "execution_count": null,
   "id": "3dfab7ac",
   "metadata": {},
   "outputs": [],
   "source": []
  }
 ],
 "metadata": {
  "kernelspec": {
   "display_name": "Python 3",
   "language": "python",
   "name": "python3"
  },
  "language_info": {
   "codemirror_mode": {
    "name": "ipython",
    "version": 3
   },
   "file_extension": ".py",
   "mimetype": "text/x-python",
   "name": "python",
   "nbconvert_exporter": "python",
   "pygments_lexer": "ipython3",
   "version": "3.10.11"
  }
 },
 "nbformat": 4,
 "nbformat_minor": 5
}

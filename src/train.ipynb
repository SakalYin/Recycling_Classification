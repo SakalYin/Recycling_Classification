{
 "cells": [
  {
   "cell_type": "code",
   "execution_count": 1,
   "id": "b4808c07",
   "metadata": {},
   "outputs": [],
   "source": [
    "from models.detector_model.model import ObjectDetectionModel, MobileObjectDetectionModel\n",
    "from models.detector_model.processor import TrainingProcessor\n",
    "from models.detector_model.data_utils import TrainingDataset, COCOProcessor\n",
    "from models.detector_model.loss_grid import ObjectDetectionLoss\n",
    "from torch.utils.data import DataLoader\n",
    "import torch\n",
    "import torch.optim as optim\n",
    "\n",
    "grouped_classes = {\n",
    "        \"Metal\": [\n",
    "            \"Metal bottle cap\", \"Metal lid\", \"Drink can\", \"Pop tab\", \"Scrap metal\",\n",
    "            \"Food Can\", \"Aluminium blister pack\", \"Aluminium foil\", \"Aerosol\"\n",
    "        ],\n",
    "        \"Plastic\": [\n",
    "            \"Plastic bottle cap\", \"Other plastic wrapper\", \"Six pack rings\",\n",
    "            \"Single-use carrier bag\", \"Plastic straw\", \"Plastic glooves\",\n",
    "            \"Plastic utensils\", \"Disposable plastic cup\", \"Other plastic bottle\",\n",
    "            \"Tupperware\", \"Spread tub\", \"Garbage bag\", \"Other plastic container\",\n",
    "            \"Other plastic\", \"Rope & strings\", \"Other plastic cup\", \"Plastic film\",\n",
    "            \"Polypropylene bag\", \"Plastic lid\", \"Clear plastic bottle\", \"Squeezable tube\",\n",
    "            \"Carded blister pack\", \"Crisp packet\", \"Meal carton\"\n",
    "        ],\n",
    "        \"Paper\": [\n",
    "            \"Paper cup\", \"Paper bag\", \"Normal paper\", \"Paper straw\", \"Tissues\",\n",
    "            \"Toilet tube\", \"Wrapping paper\", \"Pizza box\", \"Magazine paper\",\n",
    "            \"Corrugated carton\", \"Egg carton\", \"Other carton\", \"Drink carton\"\n",
    "        ],\n",
    "        \"Glass\": [\n",
    "            \"Glass jar\", \"Glass bottle\", \"Glass cup\", \"Broken glass\"\n",
    "        ],\n",
    "        \"Waste\": [\n",
    "            \"Cigarette\", \"Food waste\", \"Foam cup\",\n",
    "            \"Disposable food container\", \"Foam food container\",\n",
    "            \"Shoe\", \"Unlabeled litter\", \"Styrofoam piece\"\n",
    "        ],\n",
    "        \"Battery\": [\n",
    "            \"Battery\"\n",
    "        ],\n",
    "    }"
   ]
  },
  {
   "cell_type": "code",
   "execution_count": 2,
   "id": "a0db955e",
   "metadata": {},
   "outputs": [
    {
     "name": "stdout",
     "output_type": "stream",
     "text": [
      "==================================================\n",
      "MODEL PARAMETER SUMMARY\n",
      "==================================================\n",
      "Total parameters:      172,705\n",
      "Trainable parameters:  172,705\n",
      "Non-trainable params:  0\n",
      "==================================================\n"
     ]
    }
   ],
   "source": [
    "model = MobileObjectDetectionModel(num_classes=len(grouped_classes), num_anchors=3, grid_size=3, width_mult=1.0)\n",
    "# model.load_state_dict(torch.load(r'D:\\Sakal\\AI_FARM\\Recycling_Classification\\grid_checkpoint_epoch_47.pth')['model_state_dict'])\n",
    "model.count_parameters()\n",
    "coco_processor = COCOProcessor(classes=grouped_classes)"
   ]
  },
  {
   "cell_type": "code",
   "execution_count": 3,
   "id": "1d701f2f",
   "metadata": {},
   "outputs": [],
   "source": [
    "extracted_trash = coco_processor.extract_annotations(\n",
    "    'D:/Sakal/AI_FARM/Recycling_Classification/Dataset/Dataset/Trash Detection.v14i.coco/train/_annotations.coco.json',\n",
    "    'D:/Sakal/AI_FARM/Recycling_Classification/Dataset/Dataset/Trash Detection.v14i.coco/train',\n",
    "    convert=False\n",
    ")\n",
    "\n",
    "extracted_taco = coco_processor.extract_annotations(\n",
    "    'D:/Sakal/AI_FARM/Recycling_Classification/Dataset/TACO/data/annotations.json',\n",
    "    'D:/Sakal/AI_FARM/Recycling_Classification/Dataset/TACO/data',\n",
    "    convert=True\n",
    ")\n",
    "\n",
    "classes_names_trash = []\n",
    "for label in extracted_trash:\n",
    "    classes_names_trash.extend(label['Class'])\n",
    "classes_names_trash = list(set(classes_names_trash))\n",
    "\n",
    "classes_names_taco = []\n",
    "for label in extracted_taco:\n",
    "    classes_names_taco.extend(label['Class'])\n",
    "classes_names_taco = list(set(classes_names_taco))"
   ]
  },
  {
   "cell_type": "code",
   "execution_count": 4,
   "id": "2b27d084",
   "metadata": {},
   "outputs": [
    {
     "data": {
      "text/plain": [
       "7500"
      ]
     },
     "execution_count": 4,
     "metadata": {},
     "output_type": "execute_result"
    }
   ],
   "source": [
    "dataset = extracted_taco + extracted_trash\n",
    "len(dataset)"
   ]
  },
  {
   "cell_type": "code",
   "execution_count": 5,
   "id": "ef08bee1",
   "metadata": {},
   "outputs": [],
   "source": [
    "from PIL import Image\n",
    "classes = [item for item, value in grouped_classes.items()] # ['Metal', 'Plastic', 'Paper', 'Glass', 'Waste', 'Battery']\n",
    "\n",
    "processor = TrainingProcessor(\n",
    "    input_size=448,\n",
    "    grid_size=model.grid_size,\n",
    "    num_anchors=model.num_anchors,\n",
    "    classes=classes,\n",
    ")\n",
    "\n",
    "trash_dataset = TrainingDataset(data_json=dataset, processor=processor, is_training=False)\n",
    "trash_dataloader = DataLoader(trash_dataset, batch_size=25, shuffle=True)\n"
   ]
  },
  {
   "cell_type": "code",
   "execution_count": 6,
   "id": "31ceb64e",
   "metadata": {},
   "outputs": [],
   "source": [
    "device = torch.device(\"cuda\" if torch.cuda.is_available() else \"cpu\")\n",
    "criterion = ObjectDetectionLoss(processor=processor, bbox_loss_weight=1.0, cls_loss_weight=1.0, obj_loss_weight=1.0, pos_obj_weight=1.0, neg_obj_weight=0.5)\n",
    "optimizer = optim.Adam(\n",
    "    model.parameters(),\n",
    "    lr=1e-4,           # learning rate\n",
    "    betas=(0.9, 0.999),# beta1 and beta2 for momentum estimates\n",
    "    eps=1e-8,          # small constant for numerical stability\n",
    "    weight_decay=0     # L2 regularization\n",
    ")\n",
    "\n",
    "num_epochs = 50\n",
    "batch_interval = 25"
   ]
  },
  {
   "cell_type": "code",
   "execution_count": 7,
   "id": "487635a6",
   "metadata": {},
   "outputs": [],
   "source": [
    "# image_tensor, target_tensor, anchor_pose = processor.process_training_sample(\n",
    "#     extracted_trash[531], apply_augmentation=False, get_anchors=True)\n",
    "\n",
    "# model.to(device)\n",
    "# with torch.no_grad():\n",
    "#     output = model(image_tensor.unsqueeze(0).to(device))\n",
    "\n",
    "# bboxes = processor.convert_output_to_bboxes(output[0], grid=True, class_tensor=True, conf_threshold=None)\n",
    "\n",
    "# neg_processed_bboxes = []\n",
    "# for item in bboxes:\n",
    "#     bbox = {\n",
    "#         'bbox': item['bbox'],\n",
    "#         'conf': torch.sigmoid(item['conf']),\n",
    "#         'class_tensor': torch.sigmoid(item['class_tensor']),\n",
    "#         'grid': item['grid'],\n",
    "#         'class_id': torch.argmax(torch.sigmoid(item['class_tensor']))\n",
    "#     }\n",
    "#     if torch.sigmoid(item['conf']) > 0.65:\n",
    "#         neg_processed_bboxes.append(bbox)\n",
    "\n",
    "# neg_processed_bboxes\n",
    "# processor.draw_bbox_on_image(image_tensor, neg_processed_bboxes)"
   ]
  },
  {
   "cell_type": "code",
   "execution_count": 8,
   "id": "33cb5a56",
   "metadata": {},
   "outputs": [],
   "source": [
    "# monitor = train_with_monitoring(\n",
    "#     model=model,\n",
    "#     dataloader=trash_dataloader,\n",
    "#     loss_fn=criterion,\n",
    "#     optimizer=optimizer,\n",
    "#     num_epochs=50,\n",
    "#     save_model_path='best_model.pth',\n",
    "#     monitor_frequency=200, \n",
    "#     device='cuda'\n",
    "# )"
   ]
  },
  {
   "cell_type": "code",
   "execution_count": 9,
   "id": "cc997375",
   "metadata": {},
   "outputs": [
    {
     "name": "stdout",
     "output_type": "stream",
     "text": [
      "\tBatch: [25/300], Interval Loss: 0.9429, Epoch Loss: 0.9429, Lifetime Loss: 0.9429\n",
      "\t\tciou Loss: 0.6811478137969971, Objectness Loss: 0.17312124371528625, Positive Objectness Loss: 0.7192302942276001, Class Loss: 0.08860205113887787,\n",
      "\tBatch: [50/300], Interval Loss: 0.5796, Epoch Loss: 0.7761, Lifetime Loss: 0.7761\n",
      "\t\tciou Loss: 0.5325736999511719, Objectness Loss: 0.15767629444599152, Positive Objectness Loss: 0.6679472923278809, Class Loss: 0.08589808642864227,\n",
      "\tBatch: [75/300], Interval Loss: 0.4326, Epoch Loss: 0.6688, Lifetime Loss: 0.6688\n",
      "\t\tciou Loss: 0.44160565733909607, Objectness Loss: 0.1460782289505005, Positive Objectness Loss: 0.6362103223800659, Class Loss: 0.08113344758749008,\n",
      "\tBatch: [100/300], Interval Loss: 0.4423, Epoch Loss: 0.6171, Lifetime Loss: 0.6171\n",
      "\t\tciou Loss: 0.4010867476463318, Objectness Loss: 0.13798995316028595, Positive Objectness Loss: 0.6148795485496521, Class Loss: 0.07806271314620972,\n",
      "\tBatch: [125/300], Interval Loss: 0.5478, Epoch Loss: 0.6077, Lifetime Loss: 0.6077\n",
      "\t\tciou Loss: 0.40044230222702026, Objectness Loss: 0.13146205246448517, Positive Objectness Loss: 0.5953159928321838, Class Loss: 0.07582832872867584,\n",
      "\tBatch: [150/300], Interval Loss: 0.4103, Epoch Loss: 0.5778, Lifetime Loss: 0.5778\n",
      "\t\tciou Loss: 0.3774832487106323, Objectness Loss: 0.12654206156730652, Positive Objectness Loss: 0.5846633315086365, Class Loss: 0.07373911142349243,\n",
      "\tBatch: [175/300], Interval Loss: 0.4298, Epoch Loss: 0.5592, Lifetime Loss: 0.5592\n",
      "\t\tciou Loss: 0.3650493621826172, Objectness Loss: 0.12234550714492798, Positive Objectness Loss: 0.5771524310112, Class Loss: 0.07179463654756546,\n",
      "\tBatch: [200/300], Interval Loss: 0.3758, Epoch Loss: 0.5383, Lifetime Loss: 0.5383\n",
      "\t\tciou Loss: 0.35038915276527405, Objectness Loss: 0.11839322000741959, Positive Objectness Loss: 0.5743377208709717, Class Loss: 0.06946851313114166,\n",
      "\tBatch: [225/300], Interval Loss: 0.3842, Epoch Loss: 0.5229, Lifetime Loss: 0.5229\n",
      "\t\tciou Loss: 0.34007424116134644, Objectness Loss: 0.11526235193014145, Positive Objectness Loss: 0.5702869892120361, Class Loss: 0.06756913661956787,\n",
      "\tBatch: [250/300], Interval Loss: 0.3394, Epoch Loss: 0.5060, Lifetime Loss: 0.5060\n",
      "\t\tciou Loss: 0.3285335600376129, Objectness Loss: 0.11191149801015854, Positive Objectness Loss: 0.5646743178367615, Class Loss: 0.06553531438112259,\n",
      "\tBatch: [275/300], Interval Loss: 0.3415, Epoch Loss: 0.4923, Lifetime Loss: 0.4923\n",
      "\t\tciou Loss: 0.31921252608299255, Objectness Loss: 0.10925624519586563, Positive Objectness Loss: 0.5610410571098328, Class Loss: 0.06385228037834167,\n",
      "Epoch: [1/50], Avg Epoch Loss: 0.4791, Avg Lifetime Loss: 0.4791\n",
      "\tBatch: [25/300], Interval Loss: 0.3886, Epoch Loss: 0.3886, Lifetime Loss: 0.4719\n",
      "\t\tciou Loss: 0.2698231637477875, Objectness Loss: 0.07724343985319138, Positive Objectness Loss: 0.5233796238899231, Class Loss: 0.04151284694671631,\n",
      "\tBatch: [50/300], Interval Loss: 0.3248, Epoch Loss: 0.3637, Lifetime Loss: 0.4624\n",
      "\t\tciou Loss: 0.24578140676021576, Objectness Loss: 0.07614465802907944, Positive Objectness Loss: 0.5052362680435181, Class Loss: 0.041747093200683594,\n"
     ]
    },
    {
     "ename": "KeyboardInterrupt",
     "evalue": "",
     "output_type": "error",
     "traceback": [
      "\u001b[1;31m---------------------------------------------------------------------------\u001b[0m",
      "\u001b[1;31mKeyboardInterrupt\u001b[0m                         Traceback (most recent call last)",
      "Cell \u001b[1;32mIn[9], line 17\u001b[0m\n\u001b[0;32m     14\u001b[0m batch_interval_loss \u001b[38;5;241m=\u001b[39m \u001b[38;5;241m0.0\u001b[39m\n\u001b[0;32m     15\u001b[0m num_batches \u001b[38;5;241m=\u001b[39m \u001b[38;5;241m0\u001b[39m\n\u001b[1;32m---> 17\u001b[0m \u001b[38;5;28;01mfor\u001b[39;00m i, (x, y) \u001b[38;5;129;01min\u001b[39;00m \u001b[38;5;28menumerate\u001b[39m(trash_dataloader):\n\u001b[0;32m     18\u001b[0m     x, y \u001b[38;5;241m=\u001b[39m x\u001b[38;5;241m.\u001b[39mto(device), y\u001b[38;5;241m.\u001b[39mto(device)\n\u001b[0;32m     20\u001b[0m     optimizer\u001b[38;5;241m.\u001b[39mzero_grad()\n",
      "File \u001b[1;32md:\\Miniconda\\envs\\General_LLM\\lib\\site-packages\\torch\\utils\\data\\dataloader.py:708\u001b[0m, in \u001b[0;36m_BaseDataLoaderIter.__next__\u001b[1;34m(self)\u001b[0m\n\u001b[0;32m    705\u001b[0m \u001b[38;5;28;01mif\u001b[39;00m \u001b[38;5;28mself\u001b[39m\u001b[38;5;241m.\u001b[39m_sampler_iter \u001b[38;5;129;01mis\u001b[39;00m \u001b[38;5;28;01mNone\u001b[39;00m:\n\u001b[0;32m    706\u001b[0m     \u001b[38;5;66;03m# TODO(https://github.com/pytorch/pytorch/issues/76750)\u001b[39;00m\n\u001b[0;32m    707\u001b[0m     \u001b[38;5;28mself\u001b[39m\u001b[38;5;241m.\u001b[39m_reset()  \u001b[38;5;66;03m# type: ignore[call-arg]\u001b[39;00m\n\u001b[1;32m--> 708\u001b[0m data \u001b[38;5;241m=\u001b[39m \u001b[38;5;28;43mself\u001b[39;49m\u001b[38;5;241;43m.\u001b[39;49m\u001b[43m_next_data\u001b[49m\u001b[43m(\u001b[49m\u001b[43m)\u001b[49m\n\u001b[0;32m    709\u001b[0m \u001b[38;5;28mself\u001b[39m\u001b[38;5;241m.\u001b[39m_num_yielded \u001b[38;5;241m+\u001b[39m\u001b[38;5;241m=\u001b[39m \u001b[38;5;241m1\u001b[39m\n\u001b[0;32m    710\u001b[0m \u001b[38;5;28;01mif\u001b[39;00m (\n\u001b[0;32m    711\u001b[0m     \u001b[38;5;28mself\u001b[39m\u001b[38;5;241m.\u001b[39m_dataset_kind \u001b[38;5;241m==\u001b[39m _DatasetKind\u001b[38;5;241m.\u001b[39mIterable\n\u001b[0;32m    712\u001b[0m     \u001b[38;5;129;01mand\u001b[39;00m \u001b[38;5;28mself\u001b[39m\u001b[38;5;241m.\u001b[39m_IterableDataset_len_called \u001b[38;5;129;01mis\u001b[39;00m \u001b[38;5;129;01mnot\u001b[39;00m \u001b[38;5;28;01mNone\u001b[39;00m\n\u001b[0;32m    713\u001b[0m     \u001b[38;5;129;01mand\u001b[39;00m \u001b[38;5;28mself\u001b[39m\u001b[38;5;241m.\u001b[39m_num_yielded \u001b[38;5;241m>\u001b[39m \u001b[38;5;28mself\u001b[39m\u001b[38;5;241m.\u001b[39m_IterableDataset_len_called\n\u001b[0;32m    714\u001b[0m ):\n",
      "File \u001b[1;32md:\\Miniconda\\envs\\General_LLM\\lib\\site-packages\\torch\\utils\\data\\dataloader.py:764\u001b[0m, in \u001b[0;36m_SingleProcessDataLoaderIter._next_data\u001b[1;34m(self)\u001b[0m\n\u001b[0;32m    762\u001b[0m \u001b[38;5;28;01mdef\u001b[39;00m\u001b[38;5;250m \u001b[39m\u001b[38;5;21m_next_data\u001b[39m(\u001b[38;5;28mself\u001b[39m):\n\u001b[0;32m    763\u001b[0m     index \u001b[38;5;241m=\u001b[39m \u001b[38;5;28mself\u001b[39m\u001b[38;5;241m.\u001b[39m_next_index()  \u001b[38;5;66;03m# may raise StopIteration\u001b[39;00m\n\u001b[1;32m--> 764\u001b[0m     data \u001b[38;5;241m=\u001b[39m \u001b[38;5;28;43mself\u001b[39;49m\u001b[38;5;241;43m.\u001b[39;49m\u001b[43m_dataset_fetcher\u001b[49m\u001b[38;5;241;43m.\u001b[39;49m\u001b[43mfetch\u001b[49m\u001b[43m(\u001b[49m\u001b[43mindex\u001b[49m\u001b[43m)\u001b[49m  \u001b[38;5;66;03m# may raise StopIteration\u001b[39;00m\n\u001b[0;32m    765\u001b[0m     \u001b[38;5;28;01mif\u001b[39;00m \u001b[38;5;28mself\u001b[39m\u001b[38;5;241m.\u001b[39m_pin_memory:\n\u001b[0;32m    766\u001b[0m         data \u001b[38;5;241m=\u001b[39m _utils\u001b[38;5;241m.\u001b[39mpin_memory\u001b[38;5;241m.\u001b[39mpin_memory(data, \u001b[38;5;28mself\u001b[39m\u001b[38;5;241m.\u001b[39m_pin_memory_device)\n",
      "File \u001b[1;32md:\\Miniconda\\envs\\General_LLM\\lib\\site-packages\\torch\\utils\\data\\_utils\\fetch.py:52\u001b[0m, in \u001b[0;36m_MapDatasetFetcher.fetch\u001b[1;34m(self, possibly_batched_index)\u001b[0m\n\u001b[0;32m     50\u001b[0m         data \u001b[38;5;241m=\u001b[39m \u001b[38;5;28mself\u001b[39m\u001b[38;5;241m.\u001b[39mdataset\u001b[38;5;241m.\u001b[39m__getitems__(possibly_batched_index)\n\u001b[0;32m     51\u001b[0m     \u001b[38;5;28;01melse\u001b[39;00m:\n\u001b[1;32m---> 52\u001b[0m         data \u001b[38;5;241m=\u001b[39m [\u001b[38;5;28mself\u001b[39m\u001b[38;5;241m.\u001b[39mdataset[idx] \u001b[38;5;28;01mfor\u001b[39;00m idx \u001b[38;5;129;01min\u001b[39;00m possibly_batched_index]\n\u001b[0;32m     53\u001b[0m \u001b[38;5;28;01melse\u001b[39;00m:\n\u001b[0;32m     54\u001b[0m     data \u001b[38;5;241m=\u001b[39m \u001b[38;5;28mself\u001b[39m\u001b[38;5;241m.\u001b[39mdataset[possibly_batched_index]\n",
      "File \u001b[1;32md:\\Miniconda\\envs\\General_LLM\\lib\\site-packages\\torch\\utils\\data\\_utils\\fetch.py:52\u001b[0m, in \u001b[0;36m<listcomp>\u001b[1;34m(.0)\u001b[0m\n\u001b[0;32m     50\u001b[0m         data \u001b[38;5;241m=\u001b[39m \u001b[38;5;28mself\u001b[39m\u001b[38;5;241m.\u001b[39mdataset\u001b[38;5;241m.\u001b[39m__getitems__(possibly_batched_index)\n\u001b[0;32m     51\u001b[0m     \u001b[38;5;28;01melse\u001b[39;00m:\n\u001b[1;32m---> 52\u001b[0m         data \u001b[38;5;241m=\u001b[39m [\u001b[38;5;28;43mself\u001b[39;49m\u001b[38;5;241;43m.\u001b[39;49m\u001b[43mdataset\u001b[49m\u001b[43m[\u001b[49m\u001b[43midx\u001b[49m\u001b[43m]\u001b[49m \u001b[38;5;28;01mfor\u001b[39;00m idx \u001b[38;5;129;01min\u001b[39;00m possibly_batched_index]\n\u001b[0;32m     53\u001b[0m \u001b[38;5;28;01melse\u001b[39;00m:\n\u001b[0;32m     54\u001b[0m     data \u001b[38;5;241m=\u001b[39m \u001b[38;5;28mself\u001b[39m\u001b[38;5;241m.\u001b[39mdataset[possibly_batched_index]\n",
      "File \u001b[1;32md:\\Sakal\\AI_FARM\\Recycling_Classification\\src\\models\\detector_model\\data_utils.py:18\u001b[0m, in \u001b[0;36mTrainingDataset.__getitem__\u001b[1;34m(self, idx)\u001b[0m\n\u001b[0;32m     15\u001b[0m image_path \u001b[38;5;241m=\u001b[39m \u001b[38;5;28mself\u001b[39m\u001b[38;5;241m.\u001b[39mdata[idx][\u001b[38;5;124m'\u001b[39m\u001b[38;5;124mPath\u001b[39m\u001b[38;5;124m'\u001b[39m]\n\u001b[0;32m     17\u001b[0m \u001b[38;5;28;01mtry\u001b[39;00m:\n\u001b[1;32m---> 18\u001b[0m     image_tensor, target_tensor \u001b[38;5;241m=\u001b[39m \u001b[38;5;28;43mself\u001b[39;49m\u001b[38;5;241;43m.\u001b[39;49m\u001b[43mprocessor\u001b[49m\u001b[38;5;241;43m.\u001b[39;49m\u001b[43mprocess_training_sample\u001b[49m\u001b[43m(\u001b[49m\n\u001b[0;32m     19\u001b[0m \u001b[43m        \u001b[49m\u001b[38;5;28;43mself\u001b[39;49m\u001b[38;5;241;43m.\u001b[39;49m\u001b[43mdata\u001b[49m\u001b[43m[\u001b[49m\u001b[43midx\u001b[49m\u001b[43m]\u001b[49m\u001b[43m,\u001b[49m\n\u001b[0;32m     20\u001b[0m \u001b[43m        \u001b[49m\u001b[43mapply_augmentation\u001b[49m\u001b[38;5;241;43m=\u001b[39;49m\u001b[38;5;28;43mself\u001b[39;49m\u001b[38;5;241;43m.\u001b[39;49m\u001b[43mis_training\u001b[49m\u001b[43m)\u001b[49m\n\u001b[0;32m     21\u001b[0m     \u001b[38;5;28;01mreturn\u001b[39;00m image_tensor, target_tensor\n\u001b[0;32m     22\u001b[0m \u001b[38;5;28;01mexcept\u001b[39;00m \u001b[38;5;167;01mException\u001b[39;00m \u001b[38;5;28;01mas\u001b[39;00m e:\n",
      "File \u001b[1;32md:\\Sakal\\AI_FARM\\Recycling_Classification\\src\\models\\detector_model\\processor.py:255\u001b[0m, in \u001b[0;36mTrainingProcessor.process_training_sample\u001b[1;34m(self, json_obj, apply_augmentation, get_anchors)\u001b[0m\n\u001b[0;32m    253\u001b[0m     image_tensor \u001b[38;5;241m=\u001b[39m \u001b[38;5;28mself\u001b[39m\u001b[38;5;241m.\u001b[39mtrain_transforms(image)\n\u001b[0;32m    254\u001b[0m \u001b[38;5;28;01melse\u001b[39;00m:\n\u001b[1;32m--> 255\u001b[0m     image_tensor \u001b[38;5;241m=\u001b[39m \u001b[38;5;28;43mself\u001b[39;49m\u001b[38;5;241;43m.\u001b[39;49m\u001b[43mval_transforms\u001b[49m\u001b[43m(\u001b[49m\u001b[43mimage\u001b[49m\u001b[43m)\u001b[49m\n\u001b[0;32m    257\u001b[0m \u001b[38;5;66;03m# Convert to model target format\u001b[39;00m\n\u001b[0;32m    258\u001b[0m \u001b[38;5;28;01mif\u001b[39;00m get_anchors:\n",
      "File \u001b[1;32md:\\Miniconda\\envs\\General_LLM\\lib\\site-packages\\torchvision\\transforms\\transforms.py:95\u001b[0m, in \u001b[0;36mCompose.__call__\u001b[1;34m(self, img)\u001b[0m\n\u001b[0;32m     93\u001b[0m \u001b[38;5;28;01mdef\u001b[39;00m\u001b[38;5;250m \u001b[39m\u001b[38;5;21m__call__\u001b[39m(\u001b[38;5;28mself\u001b[39m, img):\n\u001b[0;32m     94\u001b[0m     \u001b[38;5;28;01mfor\u001b[39;00m t \u001b[38;5;129;01min\u001b[39;00m \u001b[38;5;28mself\u001b[39m\u001b[38;5;241m.\u001b[39mtransforms:\n\u001b[1;32m---> 95\u001b[0m         img \u001b[38;5;241m=\u001b[39m \u001b[43mt\u001b[49m\u001b[43m(\u001b[49m\u001b[43mimg\u001b[49m\u001b[43m)\u001b[49m\n\u001b[0;32m     96\u001b[0m     \u001b[38;5;28;01mreturn\u001b[39;00m img\n",
      "File \u001b[1;32md:\\Miniconda\\envs\\General_LLM\\lib\\site-packages\\torchvision\\transforms\\transforms.py:137\u001b[0m, in \u001b[0;36mToTensor.__call__\u001b[1;34m(self, pic)\u001b[0m\n\u001b[0;32m    129\u001b[0m \u001b[38;5;28;01mdef\u001b[39;00m\u001b[38;5;250m \u001b[39m\u001b[38;5;21m__call__\u001b[39m(\u001b[38;5;28mself\u001b[39m, pic):\n\u001b[0;32m    130\u001b[0m \u001b[38;5;250m    \u001b[39m\u001b[38;5;124;03m\"\"\"\u001b[39;00m\n\u001b[0;32m    131\u001b[0m \u001b[38;5;124;03m    Args:\u001b[39;00m\n\u001b[0;32m    132\u001b[0m \u001b[38;5;124;03m        pic (PIL Image or numpy.ndarray): Image to be converted to tensor.\u001b[39;00m\n\u001b[1;32m   (...)\u001b[0m\n\u001b[0;32m    135\u001b[0m \u001b[38;5;124;03m        Tensor: Converted image.\u001b[39;00m\n\u001b[0;32m    136\u001b[0m \u001b[38;5;124;03m    \"\"\"\u001b[39;00m\n\u001b[1;32m--> 137\u001b[0m     \u001b[38;5;28;01mreturn\u001b[39;00m \u001b[43mF\u001b[49m\u001b[38;5;241;43m.\u001b[39;49m\u001b[43mto_tensor\u001b[49m\u001b[43m(\u001b[49m\u001b[43mpic\u001b[49m\u001b[43m)\u001b[49m\n",
      "File \u001b[1;32md:\\Miniconda\\envs\\General_LLM\\lib\\site-packages\\torchvision\\transforms\\functional.py:168\u001b[0m, in \u001b[0;36mto_tensor\u001b[1;34m(pic)\u001b[0m\n\u001b[0;32m    166\u001b[0m \u001b[38;5;66;03m# handle PIL Image\u001b[39;00m\n\u001b[0;32m    167\u001b[0m mode_to_nptype \u001b[38;5;241m=\u001b[39m {\u001b[38;5;124m\"\u001b[39m\u001b[38;5;124mI\u001b[39m\u001b[38;5;124m\"\u001b[39m: np\u001b[38;5;241m.\u001b[39mint32, \u001b[38;5;124m\"\u001b[39m\u001b[38;5;124mI;16\u001b[39m\u001b[38;5;124m\"\u001b[39m \u001b[38;5;28;01mif\u001b[39;00m sys\u001b[38;5;241m.\u001b[39mbyteorder \u001b[38;5;241m==\u001b[39m \u001b[38;5;124m\"\u001b[39m\u001b[38;5;124mlittle\u001b[39m\u001b[38;5;124m\"\u001b[39m \u001b[38;5;28;01melse\u001b[39;00m \u001b[38;5;124m\"\u001b[39m\u001b[38;5;124mI;16B\u001b[39m\u001b[38;5;124m\"\u001b[39m: np\u001b[38;5;241m.\u001b[39mint16, \u001b[38;5;124m\"\u001b[39m\u001b[38;5;124mF\u001b[39m\u001b[38;5;124m\"\u001b[39m: np\u001b[38;5;241m.\u001b[39mfloat32}\n\u001b[1;32m--> 168\u001b[0m img \u001b[38;5;241m=\u001b[39m torch\u001b[38;5;241m.\u001b[39mfrom_numpy(\u001b[43mnp\u001b[49m\u001b[38;5;241;43m.\u001b[39;49m\u001b[43marray\u001b[49m\u001b[43m(\u001b[49m\u001b[43mpic\u001b[49m\u001b[43m,\u001b[49m\u001b[43m \u001b[49m\u001b[43mmode_to_nptype\u001b[49m\u001b[38;5;241;43m.\u001b[39;49m\u001b[43mget\u001b[49m\u001b[43m(\u001b[49m\u001b[43mpic\u001b[49m\u001b[38;5;241;43m.\u001b[39;49m\u001b[43mmode\u001b[49m\u001b[43m,\u001b[49m\u001b[43m \u001b[49m\u001b[43mnp\u001b[49m\u001b[38;5;241;43m.\u001b[39;49m\u001b[43muint8\u001b[49m\u001b[43m)\u001b[49m\u001b[43m,\u001b[49m\u001b[43m \u001b[49m\u001b[43mcopy\u001b[49m\u001b[38;5;241;43m=\u001b[39;49m\u001b[38;5;28;43;01mTrue\u001b[39;49;00m\u001b[43m)\u001b[49m)\n\u001b[0;32m    170\u001b[0m \u001b[38;5;28;01mif\u001b[39;00m pic\u001b[38;5;241m.\u001b[39mmode \u001b[38;5;241m==\u001b[39m \u001b[38;5;124m\"\u001b[39m\u001b[38;5;124m1\u001b[39m\u001b[38;5;124m\"\u001b[39m:\n\u001b[0;32m    171\u001b[0m     img \u001b[38;5;241m=\u001b[39m \u001b[38;5;241m255\u001b[39m \u001b[38;5;241m*\u001b[39m img\n",
      "\u001b[1;31mKeyboardInterrupt\u001b[0m: "
     ]
    }
   ],
   "source": [
    "model.to(device)\n",
    "training_lifetime_loss = 0.0\n",
    "training_lifetime_batch = 0\n",
    "\n",
    "for epoch in range(num_epochs):\n",
    "    epoch_obj_loss = []\n",
    "    epoch_cls_loss = []\n",
    "    epoch_ciou_loss = []\n",
    "    epoch_pos_obj_loss = []\n",
    "\n",
    "\n",
    "    model.train() \n",
    "    epoch_loss = 0.0\n",
    "    batch_interval_loss = 0.0\n",
    "    num_batches = 0\n",
    "    \n",
    "    for i, (x, y) in enumerate(trash_dataloader):\n",
    "        x, y = x.to(device), y.to(device)\n",
    "        \n",
    "        optimizer.zero_grad()\n",
    "        y_pred = model(x)\n",
    "        loss = criterion(y_pred, y)\n",
    "        loss_item = loss['total']\n",
    "        \n",
    "        epoch_obj_loss.append(loss['objectness'])\n",
    "        epoch_cls_loss.append(loss['classification'])\n",
    "        epoch_ciou_loss.append(loss['ciou'])\n",
    "        try:\n",
    "            epoch_pos_obj_loss.append(loss['positive_objectness'])\n",
    "        except:\n",
    "            pass\n",
    "\n",
    "        # Check for invalid loss values\n",
    "        if torch.isnan(loss_item) or torch.isinf(loss_item):\n",
    "            print(f\"Warning: Invalid loss detected at epoch {epoch+1}, batch {i}\")\n",
    "            print(f\"Loss value: {loss_item.item()}\")\n",
    "            continue  \n",
    "        \n",
    "        loss_item.backward()\n",
    "        torch.nn.utils.clip_grad_norm_(model.parameters(), max_norm=10.0)\n",
    "        optimizer.step()\n",
    "        \n",
    "        # Accumulate losses\n",
    "        loss_item = loss_item.item()\n",
    "        epoch_loss += loss_item\n",
    "        batch_interval_loss += loss_item\n",
    "        training_lifetime_loss += loss_item\n",
    "        num_batches += 1\n",
    "        training_lifetime_batch += 1\n",
    "        \n",
    "        # Print batch interval statistics\n",
    "        if i % (batch_interval) == 0 and i != 0:\n",
    "            avg_interval_loss = batch_interval_loss / (batch_interval+1)  # Fixed division\n",
    "            avg_epoch_loss_so_far = epoch_loss / num_batches\n",
    "            avg_lifetime_loss = training_lifetime_loss / training_lifetime_batch\n",
    "            \n",
    "            print(f'\\tBatch: [{i}/{len(trash_dataloader)}], '\n",
    "                  f'Interval Loss: {avg_interval_loss:.4f}, '\n",
    "                  f'Epoch Loss: {avg_epoch_loss_so_far:.4f}, '\n",
    "                  f'Lifetime Loss: {avg_lifetime_loss:.4f}')\n",
    "            print(f'\\t\\tciou Loss: {sum(epoch_ciou_loss) / len(epoch_ciou_loss)}, Objectness Loss: {sum(epoch_obj_loss) / len(epoch_obj_loss)}, Positive Objectness Loss: {sum(epoch_pos_obj_loss) / len(epoch_pos_obj_loss)}, Class Loss: {sum(epoch_cls_loss) / len(epoch_cls_loss)},')\n",
    "            \n",
    "            batch_interval_loss = 0.0\n",
    "    \n",
    "    # Epoch summary\n",
    "    if num_batches > 0:\n",
    "        avg_epoch_loss = epoch_loss / num_batches\n",
    "        avg_lifetime_loss = training_lifetime_loss / training_lifetime_batch\n",
    "        \n",
    "        print(f'Epoch: [{epoch+1}/{num_epochs}], '\n",
    "              f'Avg Epoch Loss: {avg_epoch_loss:.4f}, '\n",
    "              f'Avg Lifetime Loss: {avg_lifetime_loss:.4f}')\n",
    "        \n",
    "        if (epoch + 1) % 25 == 0: \n",
    "            checkpoint = {\n",
    "                'epoch': epoch + 1,\n",
    "                'model_state_dict': model.state_dict(),\n",
    "                'optimizer_state_dict': optimizer.state_dict(),\n",
    "                'loss': avg_epoch_loss,\n",
    "                'lifetime_loss': avg_lifetime_loss\n",
    "            }\n",
    "            torch.save(checkpoint, f'checkpoint_epoch_{epoch+1}.pth')\n",
    "            print(f\"Checkpoint saved at epoch {epoch+1}\")\n",
    "\n",
    "print(\"Training completed!\")\n",
    "print(f\"Final average lifetime loss: {training_lifetime_loss / training_lifetime_batch:.4f}\")"
   ]
  },
  {
   "cell_type": "code",
   "execution_count": null,
   "id": "b87da60c",
   "metadata": {},
   "outputs": [
    {
     "name": "stdout",
     "output_type": "stream",
     "text": [
      "Checkpoint saved at epoch 22\n"
     ]
    }
   ],
   "source": [
    "# checkpoint = {\n",
    "#                 'epoch': epoch + 1,\n",
    "#                 'model_state_dict': model.state_dict(),\n",
    "#                 'optimizer_state_dict': optimizer.state_dict(),\n",
    "#                 'loss': avg_epoch_loss,\n",
    "#                 'lifetime_loss': avg_lifetime_loss\n",
    "#             }\n",
    "# torch.save(checkpoint, f'grid_checkpoint_epoch_70.pth')\n",
    "# print(f\"Checkpoint saved at epoch {epoch+1}\")"
   ]
  },
  {
   "cell_type": "code",
   "execution_count": null,
   "id": "3dfab7ac",
   "metadata": {},
   "outputs": [],
   "source": []
  }
 ],
 "metadata": {
  "kernelspec": {
   "display_name": "General_LLM",
   "language": "python",
   "name": "python3"
  },
  "language_info": {
   "codemirror_mode": {
    "name": "ipython",
    "version": 3
   },
   "file_extension": ".py",
   "mimetype": "text/x-python",
   "name": "python",
   "nbconvert_exporter": "python",
   "pygments_lexer": "ipython3",
   "version": "3.10.11"
  }
 },
 "nbformat": 4,
 "nbformat_minor": 5
}
